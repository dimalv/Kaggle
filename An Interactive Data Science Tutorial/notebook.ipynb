{
  "metadata": {
    "_change_revision": 0,
    "kernelspec": {
      "display_name": "Python 3",
      "language": "python",
      "name": "python3"
    },
    "_is_fork": false,
    "language_info": {
      "name": "python",
      "version": "3.6.1",
      "mimetype": "text/x-python",
      "codemirror_mode": {
        "name": "ipython",
        "version": 3
      },
      "pygments_lexer": "ipython3",
      "nbconvert_exporter": "python",
      "file_extension": ".py"
    }
  },
  "nbformat": 4,
  "cells": [
    {
      "metadata": {
        "_uuid": "bda6f262149863f9489dda1d463804fac8af3653",
        "_cell_guid": "5b825984-72f9-589b-f4a1-d3fbad1d9598"
      },
      "source": "# **An Interactive Data Science Tutorial**\n\n\n*[Based on the Titanic competition on Kaggle](https://www.kaggle.com/c/titanic)*\n\n*by Helge Bjorland & Stian Eide*\n\n*January 2017*\n\n---\n\n## Content\n\n\n 1. Business Understanding (5 min)\n     * Objective\n     * Description\n 2. Data Understanding (15 min)\n    * Import Libraries\n    * Load data\n    * Statistical summaries and visualisations\n    * Excersises\n 3. Data Preparation (5 min)\n    * Missing values imputation\n    * Feature Engineering\n 4. Modeling (5 min)\n     * Build the model\n 5. Evaluation (25 min)\n     * Model performance\n     * Feature importance\n     * Who gets the best performing model?\n 6. Deployment  (5 min)\n     * Submit result to Kaggle leaderboard     \n\n[*Adopted from Cross Industry Standard Process for Data Mining (CRISP-DM)*](http://www.sv-europe.com/crisp-dm-methodology/)\n\n![CripsDM](https://upload.wikimedia.org/wikipedia/commons/thumb/b/b9/CRISP-DM_Process_Diagram.png/220px-CRISP-DM_Process_Diagram.png \"Process diagram showing the relationship between the different phases of CRISP-DM\")",
      "outputs": [],
      "execution_count": null,
      "cell_type": "markdown"
    },
    {
      "metadata": {
        "_uuid": "e8eda1c20024f0c5a81bc67b65fb6060daaf6a82",
        "_cell_guid": "6f9380bf-1835-9f4f-b728-48bdb84e7cab"
      },
      "source": "# 1. Business Understanding\n\n## 1.1 Objective\nPredict survival on the Titanic\n\n## 1.2 Description\nThe sinking of the RMS Titanic is one of the most infamous shipwrecks in history.  On April 15, 1912, during her maiden voyage, the Titanic sank after colliding with an iceberg, killing 1502 out of 2224 passengers and crew. This sensational tragedy shocked the international community and led to better safety regulations for ships.\n\nOne of the reasons that the shipwreck led to such loss of life was that there were not enough lifeboats for the passengers and crew. Although there was some element of luck involved in surviving the sinking, some groups of people were more likely to survive than others, such as women, children, and the upper-class.\n\nIn this challenge, we ask you to complete the analysis of what sorts of people were likely to survive. In particular, we ask you to apply the tools of machine learning to predict which passengers survived the tragedy.\n\n**Before going further, what do you think is the most important reasons passangers survived the Titanic sinking?**\n\n[Description from Kaggle](https://www.kaggle.com/c/titanic)",
      "outputs": [],
      "execution_count": null,
      "cell_type": "markdown"
    },
    {
      "metadata": {
        "_uuid": "10f8baf65f48321a75e4364f595343c5cfa606bd",
        "_cell_guid": "af225757-e074-9b64-ba8f-137252ea90e0"
      },
      "source": "# 2. Data Understanding\n\n## 2.1 Import Libraries\nFirst of some preparation. We need to import python libraries containing the necessary functionality we will need. \n\n*Simply run the cell below by selecting it and pressing the play button.*",
      "outputs": [],
      "execution_count": null,
      "cell_type": "markdown"
    },
    {
      "metadata": {
        "_uuid": "b6a670bb22613bfeb8dcbdbd7a2a6423ba4e4830",
        "_cell_guid": "d3cb1c42-90ba-9674-0e72-0b4ee496fa42",
        "trusted": false
      },
      "source": "# Ignore warnings\nimport warnings\nwarnings.filterwarnings('ignore')\n\n# Handle table-like data and matrices\nimport numpy as np\nimport pandas as pd\n\n# Modelling Algorithms\nfrom sklearn.tree import DecisionTreeClassifier\nfrom sklearn.linear_model import LogisticRegression\nfrom sklearn.neighbors import KNeighborsClassifier\nfrom sklearn.naive_bayes import GaussianNB\nfrom sklearn.svm import SVC, LinearSVC\nfrom sklearn.ensemble import RandomForestClassifier , GradientBoostingClassifier\n\n# Modelling Helpers\nfrom sklearn.preprocessing import Imputer , Normalizer , scale\nfrom sklearn.cross_validation import train_test_split , StratifiedKFold\nfrom sklearn.feature_selection import RFECV\n\n# Visualisation\nimport matplotlib as mpl\nimport matplotlib.pyplot as plt\nimport matplotlib.pylab as pylab\nimport seaborn as sns\n\n# Configure visualisations\n%matplotlib inline\nmpl.style.use( 'ggplot' )\nsns.set_style( 'white' )\npylab.rcParams[ 'figure.figsize' ] = 8 , 6\n",
      "cell_type": "code",
      "outputs": [],
      "execution_count": null
    },
    {
      "metadata": {
        "_uuid": "880aff7a95a2556ec6a1366c895e0203d6df50ea",
        "_cell_guid": "cb44cb03-a5be-653d-34bf-f1e7eba133a4"
      },
      "source": "## 2.2 Setup helper Functions\nThere is no need to understand this code. Just run it to simplify the code later in the tutorial.\n\n*Simply run the cell below by selecting it and pressing the play button.*",
      "outputs": [],
      "execution_count": null,
      "cell_type": "markdown"
    },
    {
      "metadata": {
        "_uuid": "84167ff6e5061287bac61895b703384e6747ed51",
        "collapsed": true,
        "_cell_guid": "0bb8cf49-d080-46a7-2c66-fa967ad4db97",
        "trusted": false
      },
      "source": "def plot_histograms( df , variables , n_rows , n_cols ):\n    fig = plt.figure( figsize = ( 16 , 12 ) )\n    for i, var_name in enumerate( variables ):\n        ax=fig.add_subplot( n_rows , n_cols , i+1 )\n        df[ var_name ].hist( bins=10 , ax=ax )\n        ax.set_title( 'Skew: ' + str( round( float( df[ var_name ].skew() ) , ) ) ) # + ' ' + var_name ) #var_name+\" Distribution\")\n        ax.set_xticklabels( [] , visible=False )\n        ax.set_yticklabels( [] , visible=False )\n    fig.tight_layout()  # Improves appearance a bit.\n    plt.show()\n\ndef plot_distribution( df , var , target , **kwargs ):\n    row = kwargs.get( 'row' , None )\n    col = kwargs.get( 'col' , None )\n    facet = sns.FacetGrid( df , hue=target , aspect=4 , row = row , col = col )\n    facet.map( sns.kdeplot , var , shade= True )\n    facet.set( xlim=( 0 , df[ var ].max() ) )\n    facet.add_legend()\n\ndef plot_categories( df , cat , target , **kwargs ):\n    row = kwargs.get( 'row' , None )\n    col = kwargs.get( 'col' , None )\n    facet = sns.FacetGrid( df , row = row , col = col )\n    facet.map( sns.barplot , cat , target )\n    facet.add_legend()\n\ndef plot_correlation_map( df ):\n    corr = titanic.corr()\n    _ , ax = plt.subplots( figsize =( 12 , 10 ) )\n    cmap = sns.diverging_palette( 220 , 10 , as_cmap = True )\n    _ = sns.heatmap(\n        corr, \n        cmap = cmap,\n        square=True, \n        cbar_kws={ 'shrink' : .9 }, \n        ax=ax, \n        annot = True, \n        annot_kws = { 'fontsize' : 12 }\n    )\n\ndef describe_more( df ):\n    var = [] ; l = [] ; t = []\n    for x in df:\n        var.append( x )\n        l.append( len( pd.value_counts( df[ x ] ) ) )\n        t.append( df[ x ].dtypes )\n    levels = pd.DataFrame( { 'Variable' : var , 'Levels' : l , 'Datatype' : t } )\n    levels.sort_values( by = 'Levels' , inplace = True )\n    return levels\n\ndef plot_variable_importance( X , y ):\n    tree = DecisionTreeClassifier( random_state = 99 )\n    tree.fit( X , y )\n    plot_model_var_imp( tree , X , y )\n    \ndef plot_model_var_imp( model , X , y ):\n    imp = pd.DataFrame( \n        model.feature_importances_  , \n        columns = [ 'Importance' ] , \n        index = X.columns \n    )\n    imp = imp.sort_values( [ 'Importance' ] , ascending = True )\n    imp[ : 10 ].plot( kind = 'barh' )\n    print (model.score( X , y ))\n    ",
      "cell_type": "code",
      "outputs": [],
      "execution_count": null
    },
    {
      "metadata": {
        "_uuid": "331b5aa5fb617bf005df5376f07855a934fcad20",
        "_cell_guid": "ea8b0e99-e512-f1f5-ed3d-e7df876b9bed"
      },
      "source": "## 2.3 Load data\nNow that our packages are loaded, let's read in and take a peek at the data.\n\n*Select the cell below and run it by pressing the play button.*",
      "outputs": [],
      "execution_count": null,
      "cell_type": "markdown"
    },
    {
      "metadata": {
        "_uuid": "5517258ccc3091f95484eb59200aab3ba5b3c677",
        "_cell_guid": "ee2677e2-b78b-250b-a908-816109e3ab91",
        "trusted": false
      },
      "source": "# get titanic & test csv files as a DataFrame\ntrain = pd.read_csv(\"../input/train.csv\")\ntest    = pd.read_csv(\"../input/test.csv\")\n\nfull = train.append( test , ignore_index = True )\ntitanic = full[ :891 ]\n\ndel train , test\n\nprint ('Datasets:' , 'full:' , full.shape , 'titanic:' , titanic.shape)",
      "cell_type": "code",
      "outputs": [],
      "execution_count": null
    },
    {
      "metadata": {
        "_uuid": "ebc76586def1ea7315773f654a3e0e30a409cae5",
        "_cell_guid": "76852c59-23bf-55b6-5b6d-f672c97114ae"
      },
      "source": "## 2.4 Statistical summaries and visualisations\n\nTo understand the data we are now going to consider some key facts about various variables including their relationship with the target variable, i.e. survival.\n\nWe start by looking at a few lines of the data\n\n*Select the cell below and run it by pressing the play button.*",
      "outputs": [],
      "execution_count": null,
      "cell_type": "markdown"
    },
    {
      "metadata": {
        "_uuid": "2fe5a1b0fd4da0b9ad31aed2ff4332b9e7ecb278",
        "_cell_guid": "60d5efad-7649-c1e8-3cae-59bf562e8457",
        "trusted": false
      },
      "source": "# Run the code to see the variables, then read the variable description below to understand them.\ntitanic.head()",
      "cell_type": "code",
      "outputs": [],
      "execution_count": null
    },
    {
      "metadata": {
        "_uuid": "442409dcbf32a92b17463ee079ba0a36e889ada6",
        "_cell_guid": "1f3708e1-b5ca-7540-39fc-da7453d0fb80"
      },
      "source": "**VARIABLE DESCRIPTIONS:**\n\nWe've got a sense of our variables, their class type, and the first few observations of each. We know we're working with 1309 observations of 12 variables. To make things a bit more explicit since a couple of the variable names aren't 100% illuminating, here's what we've got to deal with:\n\n\n**Variable Description**\n\n - Survived: Survived (1) or died (0)\n - Pclass: Passenger's class\n - Name: Passenger's name\n - Sex: Passenger's sex\n - Age: Passenger's age\n - SibSp: Number of siblings/spouses aboard\n - Parch: Number of parents/children aboard\n - Ticket: Ticket number\n - Fare: Fare\n - Cabin: Cabin\n - Embarked: Port of embarkation\n\n[More information on the Kaggle site](https://www.kaggle.com/c/titanic/data)",
      "outputs": [],
      "execution_count": null,
      "cell_type": "markdown"
    },
    {
      "metadata": {
        "_uuid": "312d8048c989624f277cf07bcd28efe20721eeb9",
        "_cell_guid": "bcc371f8-8fbb-a582-5944-8537c152c6c9"
      },
      "source": "### 2.4.1 Next have a look at some key information about the variables\nAn numeric variable is one with values of integers or real numbers while a categorical variable is a variable that can take on one of a limited, and usually fixed, number of possible values, such as blood type.\n\nNotice especially what type of variable each is, how many observations there are and some of the variable values.\n\nAn interesting observation could for example be the minimum age 0.42, do you know why this is?\n\n*Select the cell below and run it by pressing the play button.*",
      "outputs": [],
      "execution_count": null,
      "cell_type": "markdown"
    },
    {
      "metadata": {
        "_uuid": "3f68328915b1ca17564b1929f165c7d19298235b",
        "_cell_guid": "88c8b958-0973-d27e-d463-58fada41900e",
        "trusted": false
      },
      "source": "titanic.describe()",
      "cell_type": "code",
      "outputs": [],
      "execution_count": null
    },
    {
      "metadata": {
        "_uuid": "420788e5cc49c51dd09e01f4dbb9b96c673f5613",
        "_cell_guid": "c006f42b-cba3-7109-92fb-79676f726afb"
      },
      "source": "### 2.4.2 A heat map of correlation may give us a understanding of which variables are important\n*Select the cell below and run it by pressing the play button.*",
      "outputs": [],
      "execution_count": null,
      "cell_type": "markdown"
    },
    {
      "metadata": {
        "_uuid": "999323049bfb0bb95b10c7f47bd8f45babea3996",
        "_cell_guid": "84418f3e-32ab-7a6c-a60e-6d45760ee666",
        "trusted": false
      },
      "source": "plot_correlation_map( titanic )",
      "cell_type": "code",
      "outputs": [],
      "execution_count": null
    },
    {
      "metadata": {
        "_uuid": "f21cc46bfab08935a7d0a3e68d5a431e0ae22542",
        "_cell_guid": "952846c2-63a9-1923-2501-d3036056855b"
      },
      "source": "### 2.4.3 Let's further explore the relationship between the features and survival of passengers \nWe start by looking at the relationship between age and survival.\n\n*Select the cell below and run it by pressing the play button.*",
      "outputs": [],
      "execution_count": null,
      "cell_type": "markdown"
    },
    {
      "metadata": {
        "_uuid": "7cc6ac7298b79a1458ce91c733b6e56d70f7be83",
        "scrolled": false,
        "collapsed": true,
        "_cell_guid": "617703c7-4ab2-186c-f4b1-40d5ffa37850",
        "trusted": false
      },
      "source": "# Plot distributions of Age of passangers who survived or did not survive\nplot_distribution( titanic , var = 'Age' , target = 'Survived' , row = 'Sex' )",
      "cell_type": "code",
      "outputs": [],
      "execution_count": null
    },
    {
      "metadata": {
        "_uuid": "5238441a3593a3b340f327d9f81ce409bc0a7975",
        "_cell_guid": "834c62d5-23e7-7e0c-d2d4-bc960d09a409"
      },
      "source": "Consider the graphs above. Differences between survival for different values is what will be used to separate the target variable (survival in this case) in the model. If the two lines had been about the same, then it would not have been a good variable for our predictive model. \n\nConsider some key questions such as; what age does males/females have a higher or lower probability of survival? ",
      "outputs": [],
      "execution_count": null,
      "cell_type": "markdown"
    },
    {
      "metadata": {
        "_uuid": "c7bcd9be797671a7b2cb407491327f9f318d9d45",
        "_cell_guid": "f8d077bf-e70c-29df-253e-5bd22ff3f06e"
      },
      "source": "### 2.4.3 Excersise 1: Investigating numeric variables\nIt's time to get your hands dirty and do some coding! Try to plot the distributions of Fare of passangers who survived or did not survive. Then consider if this could be a good predictive variable.\n\n*Hint: use the code from the previous cell as a starting point.*",
      "outputs": [],
      "execution_count": null,
      "cell_type": "markdown"
    },
    {
      "metadata": {
        "_uuid": "08c30ea9b221a107eb72659b93900c1aadcb9d80",
        "collapsed": true,
        "_cell_guid": "6fcddc9f-19be-c474-a639-79c6b2d2a41a",
        "trusted": false
      },
      "source": "# Excersise 1\n# Plot distributions of Fare of passangers who survived or did not survive\nplot_distribution( titanic , var = 'Fare' , target = 'Survived' , row = 'Sex' )",
      "cell_type": "code",
      "outputs": [],
      "execution_count": null
    },
    {
      "metadata": {
        "_uuid": "4de4639d8be81f96918d5da3137d3799b0676e5d",
        "_cell_guid": "e9dffe91-ee29-9cca-2860-29a32a44e2af"
      },
      "source": "### 2.4.4 Embarked\nWe can also look at categorical variables like Embarked and their relationship with survival.\n\n- C = Cherbourg  \n- Q = Queenstown\n- S = Southampton",
      "outputs": [],
      "execution_count": null,
      "cell_type": "markdown"
    },
    {
      "metadata": {
        "_uuid": "6eba46f75d695636dcf590ca334e1bf1861e3289",
        "collapsed": true,
        "_cell_guid": "b5beadda-fe40-d017-9bf8-29d372401c10",
        "trusted": false
      },
      "source": "# Plot survival rate by Embarked\nplot_categories( titanic , cat = 'Embarked' , target = 'Survived' )",
      "cell_type": "code",
      "outputs": [],
      "execution_count": null
    },
    {
      "metadata": {
        "_uuid": "f641afed7e9976f92d0e5139591d9b2f0ba9c8bf",
        "_cell_guid": "33e7d091-af47-9a77-c907-81e710200c5f"
      },
      "source": "### 2.4.4 Excersise 2 - 5: Investigating categorical variables\nEven more coding practice! Try to plot the survival rate of Sex, Pclass, SibSp and Parch below. \n\n*Hint: use the code from the previous cell as a starting point.*\n\nAfter considering these graphs, which variables do you expect to be good predictors of survival? ",
      "outputs": [],
      "execution_count": null,
      "cell_type": "markdown"
    },
    {
      "metadata": {
        "_uuid": "e7aefcb8caa633c3208436beee8d204bc1b1795a",
        "_cell_guid": "25022b4c-a631-45fa-ec2b-e7bd7ed11987",
        "trusted": false
      },
      "source": "# Excersise 2\n# Plot survival rate by Sex\nmpl.rcParams['figure.figsize'] = (14, 6)\nfig = plt.figure()\nplt.subplot(141)\nsns.barplot(titanic['Sex'], titanic['Survived'])\nplt.subplot(142)\nsns.barplot(titanic['Pclass'], titanic['Survived'])\nplt.subplot(143)\nsns.barplot(titanic['SibSp'], titanic['Survived'])\nplt.subplot(144)\nsns.barplot(titanic['Parch'], titanic['Survived'])\n# plot_categories(df=titanic, cat='Sex', target='Survived')",
      "cell_type": "code",
      "outputs": [],
      "execution_count": null
    },
    {
      "metadata": {
        "_uuid": "5e0dfa29954c931ee0ad77b335a19b920159b841",
        "_cell_guid": "c9888e98-091a-d98c-6ccf-b733a4f0d941"
      },
      "source": "# 3. Data Preparation",
      "outputs": [],
      "execution_count": null,
      "cell_type": "markdown"
    },
    {
      "metadata": {
        "_uuid": "f517e43bd74a8c9701b5c02f9e76ca32361a5b15",
        "_cell_guid": "e280f761-4b30-9776-09e3-fcaecf932a01"
      },
      "source": "## 3.1 Categorical variables need to be transformed to numeric variables\nThe variables *Embarked*, *Pclass* and *Sex* are treated as categorical variables. Some of our model algorithms can only handle numeric values and so we need to create a new variable (dummy variable) for every unique value of the categorical variables.\n\nThis variable will have a value 1 if the row has a particular value and a value 0 if not. *Sex* is a dichotomy (old school gender theory) and will be encoded as one binary variable (0 or 1).\n\n*Select the cells below and run it by pressing the play button.*",
      "outputs": [],
      "execution_count": null,
      "cell_type": "markdown"
    },
    {
      "metadata": {
        "_uuid": "8b5a55d4a0a1e8179cab04b97a4adf53f7827ba3",
        "collapsed": true,
        "_cell_guid": "75023b46-ded0-94ab-3ea1-7da1eec945fe",
        "trusted": false
      },
      "source": "# Transform Sex into binary values 0 and 1\nsex = pd.Series( np.where( full.Sex == 'male' , 1 , 0 ) , name = 'Sex' )",
      "cell_type": "code",
      "outputs": [],
      "execution_count": null
    },
    {
      "metadata": {
        "_uuid": "396b37b554549946e2619ff432b95e6182ed2d68",
        "_cell_guid": "cf816542-c40f-abe0-b662-a91211882bff",
        "trusted": false
      },
      "source": "# Create a new variable for every unique value of Embarked\nembarked = pd.get_dummies( full.Embarked , prefix='Embarked' )\nembarked.head()",
      "cell_type": "code",
      "outputs": [],
      "execution_count": null
    },
    {
      "metadata": {
        "_uuid": "209d09c2bb15091683bb9d9a951205a84d12dba2",
        "_cell_guid": "01758920-20cc-e200-90aa-e4404c41a8d7",
        "trusted": false
      },
      "source": "# Create a new variable for every unique value of Embarked\npclass = pd.get_dummies( full.Pclass , prefix='Pclass' )\npclass.head()",
      "cell_type": "code",
      "outputs": [],
      "execution_count": null
    },
    {
      "metadata": {
        "_uuid": "3f262b685de99e96af9126d49c453fe564ae59b5",
        "_cell_guid": "d1269afc-b929-d519-9646-146f8a91b472"
      },
      "source": "## 3.2 Fill missing values in variables\nMost machine learning alghorims require all variables to have values in order to use it for training the model. The simplest method is to fill missing values with the average of the variable across all observations in the training set.\n\n*Select the cells below and run it by pressing the play button.*",
      "outputs": [],
      "execution_count": null,
      "cell_type": "markdown"
    },
    {
      "metadata": {
        "_uuid": "64eed74a32e5f6547eba8c8ab5e1d976ee09f2ed",
        "_cell_guid": "04044a9c-603d-1963-34f4-a85efb8c9166",
        "trusted": false
      },
      "source": "# Create dataset\nimputed = pd.DataFrame()\n\n# Fill missing values of Age with the average of Age (mean)\nimputed[ 'Age' ] = full.Age.fillna( full.Age.mean() )\n\n# Fill missing values of Fare with the average of Fare (mean)\nimputed[ 'Fare' ] = full.Fare.fillna( full.Fare.mean() )\n\nimputed.head()",
      "cell_type": "code",
      "outputs": [],
      "execution_count": null
    },
    {
      "metadata": {
        "_uuid": "82456bbf85cecd1fc33e58538c07226e227c97ae",
        "_cell_guid": "4f2ce8f7-8bf6-69f8-e2ae-5593b5cf98ac"
      },
      "source": "## 3.3 Feature Engineering &ndash; Creating new variables\nCredit: http://ahmedbesbes.com/how-to-score-08134-in-titanic-kaggle-challenge.html",
      "outputs": [],
      "execution_count": null,
      "cell_type": "markdown"
    },
    {
      "metadata": {
        "_uuid": "8f55a71415c9f89ac6e3d4ec6221b44648c4f795",
        "_cell_guid": "bd8efd0f-4af4-d709-cfeb-1907f885e341"
      },
      "source": "### 3.3.1 Extract titles from passenger names\nTitles reflect social status and may predict survival probability\n\n*Select the cell below and run it by pressing the play button.*",
      "outputs": [],
      "execution_count": null,
      "cell_type": "markdown"
    },
    {
      "metadata": {
        "_uuid": "b5beb6199c60256952d23b1fee3075b5100aaa12",
        "_cell_guid": "32772d9e-8c05-4eaf-5cd3-8425ae5837cd",
        "trusted": false
      },
      "source": "title = pd.DataFrame()\n# we extract the title from each name\ntitle[ 'Title' ] = full[ 'Name' ].map( lambda name: name.split( ',' )[1].split( '.' )[0].strip() )\n\n# a map of more aggregated titles\nTitle_Dictionary = {\n                    \"Capt\":       \"Officer\",\n                    \"Col\":        \"Officer\",\n                    \"Major\":      \"Officer\",\n                    \"Jonkheer\":   \"Royalty\",\n                    \"Don\":        \"Royalty\",\n                    \"Sir\" :       \"Royalty\",\n                    \"Dr\":         \"Officer\",\n                    \"Rev\":        \"Officer\",\n                    \"the Countess\":\"Royalty\",\n                    \"Dona\":       \"Royalty\",\n                    \"Mme\":        \"Mrs\",\n                    \"Mlle\":       \"Miss\",\n                    \"Ms\":         \"Mrs\",\n                    \"Mr\" :        \"Mr\",\n                    \"Mrs\" :       \"Mrs\",\n                    \"Miss\" :      \"Miss\",\n                    \"Master\" :    \"Master\",\n                    \"Lady\" :      \"Royalty\"\n\n                    }\n\n# we map each title\ntitle[ 'Title' ] = title.Title.map( Title_Dictionary )\ntitle = pd.get_dummies( title.Title )\n#title = pd.concat( [ title , titles_dummies ] , axis = 1 )\n\ntitle.head()",
      "cell_type": "code",
      "outputs": [],
      "execution_count": null
    },
    {
      "metadata": {
        "_uuid": "175a1ebb823c44265d005d901642f1946edccc37",
        "_cell_guid": "a56838a1-5d47-194f-7ac6-06c397b60482"
      },
      "source": "### 3.3.2 Extract Cabin category information from the Cabin number\n\n*Select the cell below and run it by pressing the play button.*",
      "outputs": [],
      "execution_count": null,
      "cell_type": "markdown"
    },
    {
      "metadata": {
        "_uuid": "1bc87bece762a36441be82a97ef24e925b3045c5",
        "_cell_guid": "87ed124f-d659-bf03-7dbf-accee0ddfe75",
        "trusted": false
      },
      "source": "cabin = pd.DataFrame()\n\n# replacing missing cabins with U (for Uknown)\ncabin[ 'Cabin' ] = full.Cabin.fillna( 'U' )\n\n# mapping each Cabin value with the cabin letter\ncabin[ 'Cabin' ] = cabin[ 'Cabin' ].map( lambda c : c[0] )\n\n# dummy encoding ...\ncabin = pd.get_dummies( cabin['Cabin'] , prefix = 'Cabin' )\n\ncabin.head()",
      "cell_type": "code",
      "outputs": [],
      "execution_count": null
    },
    {
      "metadata": {
        "_uuid": "6e2ab5c87e637b97427cd1fd30dda89de186e548",
        "_cell_guid": "d2dba1d1-e7cd-b9c8-fcc7-fae22cca38da"
      },
      "source": "### 3.3.3 Extract ticket class from ticket number\n\n*Select the cell below and run it by pressing the play button.*",
      "outputs": [],
      "execution_count": null,
      "cell_type": "markdown"
    },
    {
      "metadata": {
        "_uuid": "02c6652257002de5b68f76d43f50215bb8fe1ddb",
        "_cell_guid": "5319db41-01dd-3a48-83d8-56572272d966",
        "trusted": false
      },
      "source": "# a function that extracts each prefix of the ticket, returns 'XXX' if no prefix (i.e the ticket is a digit)\ndef cleanTicket( ticket ):\n    ticket = ticket.replace( '.' , '' )\n    ticket = ticket.replace( '/' , '' )\n    ticket = ticket.split()\n    ticket = map( lambda t : t.strip() , ticket )\n    ticket = list(filter( lambda t : not t.isdigit() , ticket ))\n    if len( ticket ) > 0:\n        return ticket[0]\n    else: \n        return 'XXX'\n\nticket = pd.DataFrame()\n\n# Extracting dummy variables from tickets:\nticket[ 'Ticket' ] = full[ 'Ticket' ].map( cleanTicket )\nticket = pd.get_dummies( ticket[ 'Ticket' ] , prefix = 'Ticket' )\n\nticket.shape\nticket.head()",
      "cell_type": "code",
      "outputs": [],
      "execution_count": null
    },
    {
      "metadata": {
        "_uuid": "2b9cb5a4f4a70c824bc6dedbf2e238b3f0767a92",
        "_cell_guid": "7e812a29-3885-30a9-3d51-beda531016d9"
      },
      "source": "### 3.3.4 Create family size and category for family size\nThe two variables *Parch* and *SibSp* are used to create the famiy size variable\n\n*Select the cell below and run it by pressing the play button.*",
      "outputs": [],
      "execution_count": null,
      "cell_type": "markdown"
    },
    {
      "metadata": {
        "_uuid": "423238e517baff24d680abf1bb65a61da9e8d604",
        "collapsed": true,
        "_cell_guid": "d885986a-77ea-b35c-5ddc-c16f54357232",
        "trusted": false
      },
      "source": "family = pd.DataFrame()\n\n# introducing a new feature : the size of families (including the passenger)\nfamily[ 'FamilySize' ] = full[ 'Parch' ] + full[ 'SibSp' ] + 1\n\n# introducing other features based on the family size\nfamily[ 'Family_Single' ] = family[ 'FamilySize' ].map( lambda s : 1 if s == 1 else 0 )\nfamily[ 'Family_Small' ]  = family[ 'FamilySize' ].map( lambda s : 1 if 2 <= s <= 4 else 0 )\nfamily[ 'Family_Large' ]  = family[ 'FamilySize' ].map( lambda s : 1 if 5 <= s else 0 )\n\nfamily.head()",
      "cell_type": "code",
      "outputs": [],
      "execution_count": null
    },
    {
      "metadata": {
        "_uuid": "3b0832c556a6d18d7f95e32c8d3c39490fb25e6a",
        "_cell_guid": "c20b06e8-7126-a80e-762a-8a383ffba9e1"
      },
      "source": "## 3.4 Assemble final datasets for modelling\n\nSplit dataset by rows into test and train in order to have a holdout set to do model evaluation on. The dataset is also split by columns in a matrix (X) containing the input data and a vector (y) containing the target (or labels).",
      "outputs": [],
      "execution_count": null,
      "cell_type": "markdown"
    },
    {
      "metadata": {
        "_uuid": "635216bd25a00f61de1781a5abf0ba187e557dca",
        "_cell_guid": "29663deb-5bbf-b621-abe5-37cfa5e3d29f"
      },
      "source": "### 3.4.1 Variable selection\nSelect which features/variables to inculde in the dataset from the list below:\n\n - imputed \n - embarked\n - pclass\n - sex\n - family\n - cabin\n - ticket\n\n*Include the variables you would like to use in the function below seperated by comma, then run the cell*",
      "outputs": [],
      "execution_count": null,
      "cell_type": "markdown"
    },
    {
      "metadata": {
        "_uuid": "951d1e435b0ce79a758c4b6008c8dc38d070ed52",
        "collapsed": true,
        "_cell_guid": "4b3459bd-752c-0a96-22dc-8672900a0bb9",
        "trusted": false
      },
      "source": "# Select which features/variables to include in the dataset from the list below:\n# imputed , embarked , pclass , sex , family , cabin , ticket\n\nfull_X = pd.concat( [ imputed , embarked , cabin , sex ] , axis=1 )\nfull_X.head()",
      "cell_type": "code",
      "outputs": [],
      "execution_count": null
    },
    {
      "metadata": {
        "_uuid": "fd8fd40079f604c58ceaddbd84a37c1f18349ff2",
        "_cell_guid": "cb10186c-81b3-f9cd-250a-fab46b0001f5"
      },
      "source": "### 3.4.2 Create datasets\nBelow we will seperate the data into training and test datasets.\n\n*Select the cell below and run it by pressing the play button.*",
      "outputs": [],
      "execution_count": null,
      "cell_type": "markdown"
    },
    {
      "metadata": {
        "_uuid": "e0e180e3eca0140b83825c3f8efc5f4ddabf7564",
        "collapsed": true,
        "_cell_guid": "7ca114b3-f22c-b8bf-4e61-9c9bcd82fa63",
        "trusted": false
      },
      "source": "# Create all datasets that are necessary to train, validate and test models\ntrain_valid_X = full_X[ 0:891 ]\ntrain_valid_y = titanic.Survived\ntest_X = full_X[ 891: ]\ntrain_X , valid_X , train_y , valid_y = train_test_split( train_valid_X , train_valid_y , train_size = .7 )\n\nprint (full_X.shape , train_X.shape , valid_X.shape , train_y.shape , valid_y.shape , test_X.shape)",
      "cell_type": "code",
      "outputs": [],
      "execution_count": null
    },
    {
      "metadata": {
        "_uuid": "8b183e2296f6f05a21a26805ba0aa3dcdfdf366e",
        "_cell_guid": "f269d9b9-73fc-6d34-b46a-61fd6f1357ae"
      },
      "source": "### 3.4.3 Feature importance\nSelecting the optimal features in the model is important. \nWe will now try to evaluate what the most important variables are for the model to make the prediction.\n\n*Select the cell below and run it by pressing the play button.*",
      "outputs": [],
      "execution_count": null,
      "cell_type": "markdown"
    },
    {
      "metadata": {
        "_uuid": "1811709eedbe846e21ff470664166b9d02e1461c",
        "collapsed": true,
        "_cell_guid": "17c2f033-c43d-93f8-a697-bf32eec3b550",
        "trusted": false
      },
      "source": "plot_variable_importance(train_X, train_y)",
      "cell_type": "code",
      "outputs": [],
      "execution_count": null
    },
    {
      "metadata": {
        "_uuid": "6f3cf70199212b06be5a98c147235fbbf43b0d5d",
        "_cell_guid": "84f76826-572a-e65d-7dd7-cd3791bf5237"
      },
      "source": "# 4. Modeling\nWe will now select a model we would like to try then use the training dataset to train this model and thereby check the performance of the model using the test set. \n\n## 4.1 Model Selection\nThen there are several options to choose from when it comes to models. A good starting point is logisic regression. \n\n**Select ONLY the model you would like to try below and run the corresponding cell by pressing the play button.**",
      "outputs": [],
      "execution_count": null,
      "cell_type": "markdown"
    },
    {
      "metadata": {
        "_uuid": "30dd9f084905b040ea9729a6fb5685eeb3491460",
        "_cell_guid": "bd56cc59-9abd-fb1f-e5e1-211c48776863"
      },
      "source": "### 4.1.1 Random Forests Model\nTry a random forest model by running the cell below. ",
      "outputs": [],
      "execution_count": null,
      "cell_type": "markdown"
    },
    {
      "metadata": {
        "_uuid": "ed00708254be1ce541b44c7e761affb3dc7d1945",
        "collapsed": true,
        "_cell_guid": "29893a22-aa92-b35d-881e-7ce907f3b3b2",
        "trusted": false
      },
      "source": "model = RandomForestClassifier(n_estimators=100)",
      "cell_type": "code",
      "outputs": [],
      "execution_count": null
    },
    {
      "metadata": {
        "_uuid": "2a4b19c1186f7bea06f45ef589fe56f42d3745f2",
        "_cell_guid": "777e1893-585a-c545-250a-f6ea12c10fb9"
      },
      "source": "### 4.1.2 Support Vector Machines\nTry a Support Vector Machines model by running the cell below. ",
      "outputs": [],
      "execution_count": null,
      "cell_type": "markdown"
    },
    {
      "metadata": {
        "_uuid": "ffbe3bae090220a8b4222220da90a3397da75f34",
        "collapsed": true,
        "_cell_guid": "c34e2a74-23b9-2916-683d-f0d6956ad5e6",
        "trusted": false
      },
      "source": "model = SVC()",
      "cell_type": "code",
      "outputs": [],
      "execution_count": null
    },
    {
      "metadata": {
        "_uuid": "32d5b9567895780ed890b60f18fbfa28b19b284b",
        "_cell_guid": "bc024820-b3db-4b2f-01aa-f9b35e413be1"
      },
      "source": "### 4.1.3 Gradient Boosting Classifier\nTry a Gradient Boosting Classifier model by running the cell below. ",
      "outputs": [],
      "execution_count": null,
      "cell_type": "markdown"
    },
    {
      "metadata": {
        "_uuid": "2eebcdda0a392244e8d0ad69586c6d16ac0d26e8",
        "collapsed": true,
        "_cell_guid": "120f00c8-b568-f3af-97fd-df9762d4aefb",
        "trusted": false
      },
      "source": "model = GradientBoostingClassifier()",
      "cell_type": "code",
      "outputs": [],
      "execution_count": null
    },
    {
      "metadata": {
        "_uuid": "a1f0afdeec8e2da9c096b778f61166b44f4e41cf",
        "_cell_guid": "452de3e7-c672-0aeb-b49e-5bb6c400de75"
      },
      "source": "### 4.1.4 K-nearest neighbors\nTry a k-nearest neighbors model by running the cell below. ",
      "outputs": [],
      "execution_count": null,
      "cell_type": "markdown"
    },
    {
      "metadata": {
        "_uuid": "7239cb0c021337dc15f3e4765d7aa5b5a3ef488a",
        "collapsed": true,
        "_cell_guid": "862cf425-ab7c-6abb-3f86-fe6a63f4a790",
        "trusted": false
      },
      "source": "model = KNeighborsClassifier(n_neighbors = 3)",
      "cell_type": "code",
      "outputs": [],
      "execution_count": null
    },
    {
      "metadata": {
        "_uuid": "09b3c4f88351835d8525e5ac6985bebc00ad8ab7",
        "_cell_guid": "34eb3eed-6d89-5c9e-31e7-40eb7e01639e"
      },
      "source": "### 4.1.5 Gaussian Naive Bayes\nTry a Gaussian Naive Bayes model by running the cell below. ",
      "outputs": [],
      "execution_count": null,
      "cell_type": "markdown"
    },
    {
      "metadata": {
        "_uuid": "3da767e0f3a1ff6afc332ec6d6cb803e8eecd153",
        "collapsed": true,
        "_cell_guid": "e6b97cb8-56c1-3b01-ca52-c2e9685b68d0",
        "trusted": false
      },
      "source": "model = GaussianNB()",
      "cell_type": "code",
      "outputs": [],
      "execution_count": null
    },
    {
      "metadata": {
        "_uuid": "c31fd1dd0ffa241a1e4b5d5dd1c4b0f634d86738",
        "_cell_guid": "c3c89f76-4d2e-ae80-8b61-13feb6f33831"
      },
      "source": "### 4.1.6 Logistic Regression\nTry a Logistic Regression model by running the cell below. ",
      "outputs": [],
      "execution_count": null,
      "cell_type": "markdown"
    },
    {
      "metadata": {
        "_uuid": "6d1e68128d30e855b44defc70617e114dc95f60b",
        "collapsed": true,
        "_cell_guid": "f3573fce-2045-aa1d-e010-dc28139b5a16",
        "trusted": false
      },
      "source": "model = LogisticRegression()",
      "cell_type": "code",
      "outputs": [],
      "execution_count": null
    },
    {
      "metadata": {
        "_uuid": "8842c9afc1e7bfa71817f0aa4a08f282312dc1cd",
        "_cell_guid": "7e8d2a8d-a9f6-d416-74e7-4f5b711dcd98"
      },
      "source": "## 4.2 Train the selected model\nWhen you have selected a dataset with the features you want and a model you would like to try it is now time to train the model. After all our preparation model training is simply done with the one line below.\n\n*Select the cell below and run it by pressing the play button.*",
      "outputs": [],
      "execution_count": null,
      "cell_type": "markdown"
    },
    {
      "metadata": {
        "_uuid": "d5da904d2094d59bf9a5ce968c41dc793f9c1632",
        "collapsed": true,
        "_cell_guid": "02a54d08-b02a-a4df-6d74-540be7d243d8",
        "trusted": false
      },
      "source": "model.fit( train_X , train_y )",
      "cell_type": "code",
      "outputs": [],
      "execution_count": null
    },
    {
      "metadata": {
        "_uuid": "666d3fa13064c39797ace3574afde50b4b3121a5",
        "_cell_guid": "3868397c-30ed-a870-9c61-30b5d5ebdce7"
      },
      "source": "# 5. Evaluation\nNow we are going to evaluate model performance and the feature importance.\n\n## 5.1 Model performance\nWe can evaluate the accuracy of the model by using the validation set where we know the actual outcome. This data set have not been used for training the model, so it's completely new to the model. \n\nWe then compare this accuracy score with the accuracy when using the model on the training data. If the difference between these are significant this is an indication of overfitting. We try to avoid this because it means the model will not generalize well to new data and is expected to perform poorly.\n\n*Select the cell below and run it by pressing the play button.*",
      "outputs": [],
      "execution_count": null,
      "cell_type": "markdown"
    },
    {
      "metadata": {
        "_uuid": "9f92542cfb325153ca4a50d9a56b652449593293",
        "collapsed": true,
        "_cell_guid": "c4e9a0a3-f637-5568-e92c-07c0548cd89d",
        "trusted": false
      },
      "source": "# Score the model\nprint (model.score( train_X , train_y ) , model.score( valid_X , valid_y ))",
      "cell_type": "code",
      "outputs": [],
      "execution_count": null
    },
    {
      "metadata": {
        "_uuid": "25f0cf9c03ee0d29cafac4fd5422ac52c62725ce",
        "_cell_guid": "cd75f2ca-dcb1-e2af-ebf8-e1dea0cf44a5"
      },
      "source": "## 5.2 Feature importance - selecting the optimal features in the model\nWe will now try to evaluate what the most important variables are for the model to make the prediction. The function below will only work for decision trees, so if that's the model you chose you can uncomment the code below (remove # in the beginning)  and see the feature importance.\n\n*Select the cell below and run it by pressing the play button.*",
      "outputs": [],
      "execution_count": null,
      "cell_type": "markdown"
    },
    {
      "metadata": {
        "_uuid": "9e04240ec5d82d553fea3f2674be1a2447573cae",
        "collapsed": true,
        "_cell_guid": "f9412dd9-11ce-74ba-7fd6-148b2ae3bce3",
        "trusted": false
      },
      "source": "#plot_model_var_imp(model, train_X, train_y)",
      "cell_type": "code",
      "outputs": [],
      "execution_count": null
    },
    {
      "metadata": {
        "_uuid": "7fd6cab6e1bc248fda6968b0636e83e26f52b177",
        "_cell_guid": "e7d3ad7a-92eb-f0e0-4028-3eec53c65581"
      },
      "source": "### 5.2.1 Automagic\nIt's also possible to automatically select the optimal number of features and visualize this. This is uncommented and can be tried in the competition part of the tutorial.\n\n*Select the cell below and run it by pressing the play button.*",
      "outputs": [],
      "execution_count": null,
      "cell_type": "markdown"
    },
    {
      "metadata": {
        "_uuid": "f18e9dc8de2625ec268ffbf24826d557c327aa18",
        "collapsed": true,
        "_cell_guid": "2e290c27-d9d2-4ebf-32bc-8ff56c68f763",
        "trusted": false
      },
      "source": "rfecv = RFECV( estimator = model , step = 1 , cv = StratifiedKFold( train_y , 2 ) , scoring = 'accuracy' )\nrfecv.fit( train_X , train_y )\n\n#print (rfecv.score( train_X , train_y ) , rfecv.score( valid_X , valid_y ))\n#print( \"Optimal number of features : %d\" % rfecv.n_features_ )\n\n# Plot number of features VS. cross-validation scores\n#plt.figure()\n#plt.xlabel( \"Number of features selected\" )\n#plt.ylabel( \"Cross validation score (nb of correct classifications)\" )\n#plt.plot( range( 1 , len( rfecv.grid_scores_ ) + 1 ) , rfecv.grid_scores_ )\n#plt.show()",
      "cell_type": "code",
      "outputs": [],
      "execution_count": null
    },
    {
      "metadata": {
        "_uuid": "4bbda869a01d6c13417488382633abb03e45ba6c",
        "_cell_guid": "61945225-1dcd-870d-bc49-851d5c91d1d5"
      },
      "source": "## 5.3 Competition time!\nIt's now time for you to get your hands even dirtier and go at it all by yourself in a `challenge`! \n\n1. Try to the other models in step 4.1 and compare their result\n    * Do this by uncommenting the code and running the cell you want to try\n2. Try adding new features in step 3.4.1\n    * Do this by adding them in to the function in the feature section.\n\n\n**The winner is the one to get the highest scoring model for the validation set**",
      "outputs": [],
      "execution_count": null,
      "cell_type": "markdown"
    },
    {
      "metadata": {
        "_uuid": "fe995ba8b4d3667633002dac324ff62873576ce5",
        "_cell_guid": "598cfdec-2804-0312-e69e-2ea779f045bc"
      },
      "source": "# 6. Deployment\n\nDeployment in this context means publishing the resulting prediction from the model to the Kaggle leaderboard. To do this do the following:\n\n 1. select the cell below and run it by pressing the play button.\n 2. Press the `Publish` button in top right corner.\n 3. Select `Output` on the notebook menubar\n 4. Select the result dataset and press `Submit to Competition` button",
      "outputs": [],
      "execution_count": null,
      "cell_type": "markdown"
    },
    {
      "metadata": {
        "_uuid": "3d394d5ff24111c63fc44f48634fd083bde018b7",
        "collapsed": true,
        "_cell_guid": "25cb37ca-225b-2917-00a8-5c08708ccf1d",
        "trusted": false
      },
      "source": "test_Y = model.predict( test_X )\npassenger_id = full[891:].PassengerId\ntest = pd.DataFrame( { 'PassengerId': passenger_id , 'Survived': test_Y } )\ntest.shape\ntest.head()\ntest.to_csv( 'titanic_pred.csv' , index = False )",
      "cell_type": "code",
      "outputs": [],
      "execution_count": null
    }
  ],
  "nbformat_minor": 1
}